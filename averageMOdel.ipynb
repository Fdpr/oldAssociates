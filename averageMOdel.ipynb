{
 "cells": [
  {
   "cell_type": "code",
   "execution_count": 1,
   "metadata": {},
   "outputs": [
    {
     "data": {
      "text/plain": [
       "WordAssociationPredictionModel(\n",
       "  (activation): ReLU()\n",
       "  (linear1): Linear(in_features=600, out_features=512, bias=True)\n",
       "  (linear2): Linear(in_features=512, out_features=512, bias=True)\n",
       "  (linear3): Linear(in_features=512, out_features=512, bias=True)\n",
       "  (linear4): Linear(in_features=512, out_features=256, bias=True)\n",
       "  (linear5): Linear(in_features=256, out_features=4, bias=True)\n",
       ")"
      ]
     },
     "execution_count": 1,
     "metadata": {},
     "output_type": "execute_result"
    }
   ],
   "source": [
    "import pandas as pd\n",
    "import matplotlib.pyplot as plt\n",
    "import torch\n",
    "import fasttext\n",
    "import numpy as np\n",
    "from model import WADataset, WordAssociationPredictionModel, WordAssociationPredictionModel, embed\n",
    "\n",
    "\n",
    "model = WordAssociationPredictionModel()\n",
    "model.load_state_dict(torch.load(\"./data/trained_model.pt\"))\n",
    "model.eval()"
   ]
  },
  {
   "cell_type": "code",
   "execution_count": 2,
   "metadata": {},
   "outputs": [
    {
     "name": "stderr",
     "output_type": "stream",
     "text": [
      "Warning : `load_model` does not return WordVectorModel or SupervisedModel any more, but a `FastText` object which is very similar.\n"
     ]
    }
   ],
   "source": [
    "embedding_model = fasttext.load_model('./crawl-300d-2M-subword/crawl-300d-2M-subword.bin')"
   ]
  },
  {
   "cell_type": "code",
   "execution_count": 3,
   "metadata": {},
   "outputs": [
    {
     "data": {
      "text/plain": [
       "<fasttext.FastText._FastText at 0x134bb5650>"
      ]
     },
     "execution_count": 3,
     "metadata": {},
     "output_type": "execute_result"
    }
   ],
   "source": [
    "embedding_model"
   ]
  },
  {
   "cell_type": "code",
   "execution_count": 4,
   "metadata": {},
   "outputs": [
    {
     "data": {
      "text/plain": [
       "tensor([[-0.0137,  0.0132,  0.0522,  ..., -0.0115, -0.0015,  0.0099],\n",
       "        [-0.0142,  0.0141,  0.0280,  ..., -0.0117, -0.0027,  0.0058]])"
      ]
     },
     "execution_count": 4,
     "metadata": {},
     "output_type": "execute_result"
    }
   ],
   "source": [
    "test = embed(embedding_model, [[\"apple\", \"orange\"], [[\"grape\", \"grape\"], [\"banana\", \"\"], [\"\", \"\"]]])\n",
    "test"
   ]
  },
  {
   "cell_type": "code",
   "execution_count": 5,
   "metadata": {},
   "outputs": [
    {
     "data": {
      "text/plain": [
       "tensor([[ 1.0457,  0.1358, -0.6141, -2.3175],\n",
       "        [ 0.7250,  0.0983, -0.3082, -1.7954]], grad_fn=<AddmmBackward0>)"
      ]
     },
     "execution_count": 5,
     "metadata": {},
     "output_type": "execute_result"
    }
   ],
   "source": [
    "model(test) # [0-39, 30-50, 50-70, 70+]"
   ]
  },
  {
   "cell_type": "code",
   "execution_count": 6,
   "metadata": {},
   "outputs": [],
   "source": [
    "snow = pd.read_csv(\"./preprocessing/SWOW-EN.complete_preprocessed.csv\")"
   ]
  },
  {
   "cell_type": "code",
   "execution_count": 7,
   "metadata": {},
   "outputs": [
    {
     "data": {
      "text/html": [
       "<div>\n",
       "<style scoped>\n",
       "    .dataframe tbody tr th:only-of-type {\n",
       "        vertical-align: middle;\n",
       "    }\n",
       "\n",
       "    .dataframe tbody tr th {\n",
       "        vertical-align: top;\n",
       "    }\n",
       "\n",
       "    .dataframe thead th {\n",
       "        text-align: right;\n",
       "    }\n",
       "</style>\n",
       "<table border=\"1\" class=\"dataframe\">\n",
       "  <thead>\n",
       "    <tr style=\"text-align: right;\">\n",
       "      <th></th>\n",
       "      <th>participantID</th>\n",
       "      <th>country</th>\n",
       "      <th>age</th>\n",
       "      <th>gender</th>\n",
       "      <th>cue</th>\n",
       "      <th>R1Raw</th>\n",
       "      <th>R2Raw</th>\n",
       "      <th>R3Raw</th>\n",
       "      <th>amount</th>\n",
       "    </tr>\n",
       "  </thead>\n",
       "  <tbody>\n",
       "    <tr>\n",
       "      <th>0</th>\n",
       "      <td>64960</td>\n",
       "      <td>United States</td>\n",
       "      <td>24</td>\n",
       "      <td>Ma</td>\n",
       "      <td>lawful</td>\n",
       "      <td>dutiful</td>\n",
       "      <td>square</td>\n",
       "      <td>illegal</td>\n",
       "      <td>3</td>\n",
       "    </tr>\n",
       "    <tr>\n",
       "      <th>1</th>\n",
       "      <td>95843</td>\n",
       "      <td>United States</td>\n",
       "      <td>32</td>\n",
       "      <td>Fe</td>\n",
       "      <td>browse</td>\n",
       "      <td>web</td>\n",
       "      <td>surf</td>\n",
       "      <td>look</td>\n",
       "      <td>3</td>\n",
       "    </tr>\n",
       "    <tr>\n",
       "      <th>2</th>\n",
       "      <td>66020</td>\n",
       "      <td>United States</td>\n",
       "      <td>26</td>\n",
       "      <td>Fe</td>\n",
       "      <td>Japan</td>\n",
       "      <td>bomb</td>\n",
       "      <td>rice</td>\n",
       "      <td>fish</td>\n",
       "      <td>3</td>\n",
       "    </tr>\n",
       "    <tr>\n",
       "      <th>3</th>\n",
       "      <td>34329</td>\n",
       "      <td>United States</td>\n",
       "      <td>38</td>\n",
       "      <td>Ma</td>\n",
       "      <td>contain</td>\n",
       "      <td>within</td>\n",
       "      <td>has</td>\n",
       "      <td>nuclear</td>\n",
       "      <td>3</td>\n",
       "    </tr>\n",
       "    <tr>\n",
       "      <th>4</th>\n",
       "      <td>1250</td>\n",
       "      <td>United States</td>\n",
       "      <td>21</td>\n",
       "      <td>Ma</td>\n",
       "      <td>pull</td>\n",
       "      <td>push</td>\n",
       "      <td>drag</td>\n",
       "      <td>slide</td>\n",
       "      <td>3</td>\n",
       "    </tr>\n",
       "  </tbody>\n",
       "</table>\n",
       "</div>"
      ],
      "text/plain": [
       "   participantID        country  age gender      cue    R1Raw   R2Raw  \\\n",
       "0          64960  United States   24     Ma   lawful  dutiful  square   \n",
       "1          95843  United States   32     Fe   browse      web    surf   \n",
       "2          66020  United States   26     Fe    Japan     bomb    rice   \n",
       "3          34329  United States   38     Ma  contain   within     has   \n",
       "4           1250  United States   21     Ma     pull     push    drag   \n",
       "\n",
       "     R3Raw  amount  \n",
       "0  illegal       3  \n",
       "1     look       3  \n",
       "2     fish       3  \n",
       "3  nuclear       3  \n",
       "4    slide       3  "
      ]
     },
     "execution_count": 7,
     "metadata": {},
     "output_type": "execute_result"
    }
   ],
   "source": [
    "snow.head()"
   ]
  },
  {
   "cell_type": "code",
   "execution_count": 8,
   "metadata": {},
   "outputs": [
    {
     "data": {
      "text/plain": [
       "count    75923.000000\n",
       "mean        14.806725\n",
       "std          1.974502\n",
       "min          1.000000\n",
       "25%         14.000000\n",
       "50%         14.000000\n",
       "75%         16.000000\n",
       "max         18.000000\n",
       "Name: cue, dtype: float64"
      ]
     },
     "execution_count": 8,
     "metadata": {},
     "output_type": "execute_result"
    }
   ],
   "source": [
    "snow.groupby(\"participantID\").cue.count().describe()"
   ]
  },
  {
   "attachments": {},
   "cell_type": "markdown",
   "metadata": {},
   "source": [
    "participants submitted different numbers of responses, let's evaluate *per-participant* accuracy, using only participants that had 14 responese (the median number)"
   ]
  },
  {
   "cell_type": "code",
   "execution_count": 9,
   "metadata": {},
   "outputs": [],
   "source": [
    "n_responses_dict = snow.groupby(\"participantID\").cue.count().to_dict()"
   ]
  },
  {
   "cell_type": "code",
   "execution_count": 10,
   "metadata": {},
   "outputs": [],
   "source": [
    "snow = snow.assign(\n",
    "    n_responses =  snow.participantID.map(n_responses_dict)\n",
    ")"
   ]
  },
  {
   "cell_type": "code",
   "execution_count": 11,
   "metadata": {},
   "outputs": [],
   "source": [
    "snow_subset = snow.query(\"n_responses == 14\")"
   ]
  },
  {
   "cell_type": "code",
   "execution_count": 12,
   "metadata": {},
   "outputs": [],
   "source": [
    "def participant_predict(cues, r1, r2, r3):\n",
    "    test = embed(embedding_model, [cues.values, [r1.values, r2.values, r3.values]])\n",
    "    results = model(test)\n",
    "    return results"
   ]
  },
  {
   "cell_type": "code",
   "execution_count": 13,
   "metadata": {},
   "outputs": [],
   "source": [
    "res = participant_predict(\n",
    "    snow_subset.cue,\n",
    "    snow_subset.R1Raw,\n",
    "    snow_subset.R2Raw,\n",
    "    snow_subset.R3Raw\n",
    ")"
   ]
  },
  {
   "cell_type": "code",
   "execution_count": 14,
   "metadata": {},
   "outputs": [],
   "source": [
    "res = res.detach().numpy()"
   ]
  },
  {
   "cell_type": "code",
   "execution_count": 15,
   "metadata": {},
   "outputs": [],
   "source": [
    "import scipy\n",
    "from scipy.special import softmax\n",
    "res = softmax(res)"
   ]
  },
  {
   "cell_type": "code",
   "execution_count": 16,
   "metadata": {},
   "outputs": [],
   "source": [
    "res = res / res.sum(axis=1).reshape(-1, 1)"
   ]
  },
  {
   "cell_type": "code",
   "execution_count": 17,
   "metadata": {},
   "outputs": [],
   "source": [
    "snow_subset = snow_subset.assign(\n",
    "    predictionU30 = res[:,0],\n",
    "    prediction3050 = res[:,1],\n",
    "    prediction5070 = res[:,2],\n",
    "    prediction70U = res[:,3],\n",
    "    predictedAgeGroupPerTrial = np.argmax(res, axis=1)\n",
    ")"
   ]
  },
  {
   "cell_type": "code",
   "execution_count": 18,
   "metadata": {},
   "outputs": [],
   "source": [
    "def checkAge(row):\n",
    "    if row.age < 30 and row.predictedAgeGroupPerTrial == 0:\n",
    "        return True\n",
    "    elif row.age >= 30 and row.age < 50 and row.predictedAgeGroupPerTrial == 1:\n",
    "        return True\n",
    "    elif row.age >= 50 and row.age < 70 and row.predictedAgeGroupPerTrial == 2:\n",
    "        return True\n",
    "    elif row.age >= 70 and row.predictedAgeGroupPerTrial == 3:\n",
    "        return True\n",
    "    else:\n",
    "        return False\n"
   ]
  },
  {
   "attachments": {},
   "cell_type": "markdown",
   "metadata": {},
   "source": [
    "Overall accuracy"
   ]
  },
  {
   "cell_type": "code",
   "execution_count": 19,
   "metadata": {},
   "outputs": [
    {
     "data": {
      "text/plain": [
       "0.4704272009145943"
      ]
     },
     "execution_count": 19,
     "metadata": {},
     "output_type": "execute_result"
    }
   ],
   "source": [
    "snow_subset.apply(checkAge, axis=1).sum() / len(snow_subset)"
   ]
  },
  {
   "attachments": {},
   "cell_type": "markdown",
   "metadata": {},
   "source": [
    "per participant accuracy based on the most frequently predicted age group"
   ]
  },
  {
   "cell_type": "code",
   "execution_count": 20,
   "metadata": {},
   "outputs": [],
   "source": [
    "d_prediction_dict = snow_subset.groupby(\"participantID\").apply(\n",
    "    lambda x: x.apply(checkAge, axis=1).sum() / len(x),\n",
    ").to_dict()"
   ]
  },
  {
   "cell_type": "code",
   "execution_count": 21,
   "metadata": {},
   "outputs": [],
   "source": [
    "def getMaxPrediction(row):\n",
    "    return np.argmax([np.max(row.predictionU30),\n",
    "                        np.max(row.prediction3050),\n",
    "                        np.max(row.prediction5070),\n",
    "                        np.max(row.prediction70U)])\n",
    "\n"
   ]
  },
  {
   "cell_type": "code",
   "execution_count": 22,
   "metadata": {},
   "outputs": [],
   "source": [
    "argmaxPredictions = snow_subset.groupby(\"participantID\").apply(\n",
    "    lambda r:getMaxPrediction(r)).to_dict()"
   ]
  },
  {
   "cell_type": "code",
   "execution_count": 23,
   "metadata": {},
   "outputs": [],
   "source": [
    "snow_subset = snow_subset.assign(avgParticpantPredictionAcc = lambda df: df.participantID.map(d_prediction_dict))"
   ]
  },
  {
   "cell_type": "code",
   "execution_count": 24,
   "metadata": {},
   "outputs": [],
   "source": [
    "snow_subset = snow_subset.assign(maxParticipantPredictionAcc = lambda df: df.participantID.map(argmaxPredictions))"
   ]
  },
  {
   "cell_type": "code",
   "execution_count": 25,
   "metadata": {},
   "outputs": [],
   "source": [
    "def getParticipantAgeGroup(age):\n",
    "    if age < 30:\n",
    "        return 0\n",
    "    elif age >= 30 and age < 50:\n",
    "        return 1\n",
    "    elif age >= 50 and age < 70:\n",
    "        return 2\n",
    "    elif age >= 70:\n",
    "        return 3"
   ]
  },
  {
   "cell_type": "code",
   "execution_count": 26,
   "metadata": {},
   "outputs": [],
   "source": [
    "snow_subset = snow_subset.assign(\n",
    "    participantAgeGroup = lambda df: df.age.apply(getParticipantAgeGroup)\n",
    ")"
   ]
  },
  {
   "cell_type": "code",
   "execution_count": 27,
   "metadata": {},
   "outputs": [
    {
     "data": {
      "text/plain": [
       "participantAgeGroup\n",
       "0    0.883661\n",
       "1    0.083949\n",
       "2    0.282344\n",
       "3    0.000000\n",
       "Name: avgParticpantPredictionAcc, dtype: float64"
      ]
     },
     "execution_count": 27,
     "metadata": {},
     "output_type": "execute_result"
    }
   ],
   "source": [
    "snow_subset.groupby(\"participantAgeGroup\").avgParticpantPredictionAcc.mean()"
   ]
  },
  {
   "cell_type": "code",
   "execution_count": 36,
   "metadata": {},
   "outputs": [
    {
     "data": {
      "text/plain": [
       "participantAgeGroup\n",
       "0    0.979502\n",
       "1    0.000886\n",
       "2    0.207878\n",
       "3    0.000000\n",
       "Name: maxPredictionAcc, dtype: float64"
      ]
     },
     "execution_count": 36,
     "metadata": {},
     "output_type": "execute_result"
    }
   ],
   "source": [
    "snow_subset.assign(\n",
    "    maxPredictionAcc = snow_subset.maxParticipantPredictionAcc == snow_subset.participantAgeGroup\n",
    ").groupby(\"participantAgeGroup\").maxPredictionAcc.mean()"
   ]
  },
  {
   "cell_type": "code",
   "execution_count": 29,
   "metadata": {},
   "outputs": [
    {
     "data": {
      "text/html": [
       "<div>\n",
       "<style scoped>\n",
       "    .dataframe tbody tr th:only-of-type {\n",
       "        vertical-align: middle;\n",
       "    }\n",
       "\n",
       "    .dataframe tbody tr th {\n",
       "        vertical-align: top;\n",
       "    }\n",
       "\n",
       "    .dataframe thead th {\n",
       "        text-align: right;\n",
       "    }\n",
       "</style>\n",
       "<table border=\"1\" class=\"dataframe\">\n",
       "  <thead>\n",
       "    <tr style=\"text-align: right;\">\n",
       "      <th></th>\n",
       "      <th>participantID</th>\n",
       "      <th>country</th>\n",
       "      <th>age</th>\n",
       "      <th>gender</th>\n",
       "      <th>cue</th>\n",
       "      <th>R1Raw</th>\n",
       "      <th>R2Raw</th>\n",
       "      <th>R3Raw</th>\n",
       "      <th>amount</th>\n",
       "      <th>n_responses</th>\n",
       "      <th>predictionU30</th>\n",
       "      <th>prediction3050</th>\n",
       "      <th>prediction5070</th>\n",
       "      <th>prediction70U</th>\n",
       "      <th>predictedAgeGroupPerTrial</th>\n",
       "      <th>avgParticpantPredictionAcc</th>\n",
       "      <th>maxParticipantPredictionAcc</th>\n",
       "      <th>participantAgeGroup</th>\n",
       "    </tr>\n",
       "  </thead>\n",
       "  <tbody>\n",
       "    <tr>\n",
       "      <th>0</th>\n",
       "      <td>64960</td>\n",
       "      <td>United States</td>\n",
       "      <td>24</td>\n",
       "      <td>Ma</td>\n",
       "      <td>lawful</td>\n",
       "      <td>dutiful</td>\n",
       "      <td>square</td>\n",
       "      <td>illegal</td>\n",
       "      <td>3</td>\n",
       "      <td>14</td>\n",
       "      <td>0.310465</td>\n",
       "      <td>0.339911</td>\n",
       "      <td>0.303626</td>\n",
       "      <td>0.045998</td>\n",
       "      <td>1</td>\n",
       "      <td>0.785714</td>\n",
       "      <td>0</td>\n",
       "      <td>0</td>\n",
       "    </tr>\n",
       "    <tr>\n",
       "      <th>2</th>\n",
       "      <td>66020</td>\n",
       "      <td>United States</td>\n",
       "      <td>26</td>\n",
       "      <td>Fe</td>\n",
       "      <td>Japan</td>\n",
       "      <td>bomb</td>\n",
       "      <td>rice</td>\n",
       "      <td>fish</td>\n",
       "      <td>3</td>\n",
       "      <td>14</td>\n",
       "      <td>0.476169</td>\n",
       "      <td>0.388888</td>\n",
       "      <td>0.125822</td>\n",
       "      <td>0.009122</td>\n",
       "      <td>0</td>\n",
       "      <td>1.000000</td>\n",
       "      <td>0</td>\n",
       "      <td>0</td>\n",
       "    </tr>\n",
       "    <tr>\n",
       "      <th>3</th>\n",
       "      <td>34329</td>\n",
       "      <td>United States</td>\n",
       "      <td>38</td>\n",
       "      <td>Ma</td>\n",
       "      <td>contain</td>\n",
       "      <td>within</td>\n",
       "      <td>has</td>\n",
       "      <td>nuclear</td>\n",
       "      <td>3</td>\n",
       "      <td>14</td>\n",
       "      <td>0.539082</td>\n",
       "      <td>0.267073</td>\n",
       "      <td>0.160471</td>\n",
       "      <td>0.033374</td>\n",
       "      <td>0</td>\n",
       "      <td>0.000000</td>\n",
       "      <td>0</td>\n",
       "      <td>1</td>\n",
       "    </tr>\n",
       "    <tr>\n",
       "      <th>4</th>\n",
       "      <td>1250</td>\n",
       "      <td>United States</td>\n",
       "      <td>21</td>\n",
       "      <td>Ma</td>\n",
       "      <td>pull</td>\n",
       "      <td>push</td>\n",
       "      <td>drag</td>\n",
       "      <td>slide</td>\n",
       "      <td>3</td>\n",
       "      <td>14</td>\n",
       "      <td>0.181081</td>\n",
       "      <td>0.245244</td>\n",
       "      <td>0.426000</td>\n",
       "      <td>0.147675</td>\n",
       "      <td>2</td>\n",
       "      <td>0.285714</td>\n",
       "      <td>0</td>\n",
       "      <td>0</td>\n",
       "    </tr>\n",
       "    <tr>\n",
       "      <th>6</th>\n",
       "      <td>42323</td>\n",
       "      <td>United States</td>\n",
       "      <td>28</td>\n",
       "      <td>Fe</td>\n",
       "      <td>shade</td>\n",
       "      <td>grey</td>\n",
       "      <td>blinds</td>\n",
       "      <td>cove</td>\n",
       "      <td>3</td>\n",
       "      <td>14</td>\n",
       "      <td>0.564290</td>\n",
       "      <td>0.292399</td>\n",
       "      <td>0.126269</td>\n",
       "      <td>0.017043</td>\n",
       "      <td>0</td>\n",
       "      <td>1.000000</td>\n",
       "      <td>0</td>\n",
       "      <td>0</td>\n",
       "    </tr>\n",
       "    <tr>\n",
       "      <th>...</th>\n",
       "      <td>...</td>\n",
       "      <td>...</td>\n",
       "      <td>...</td>\n",
       "      <td>...</td>\n",
       "      <td>...</td>\n",
       "      <td>...</td>\n",
       "      <td>...</td>\n",
       "      <td>...</td>\n",
       "      <td>...</td>\n",
       "      <td>...</td>\n",
       "      <td>...</td>\n",
       "      <td>...</td>\n",
       "      <td>...</td>\n",
       "      <td>...</td>\n",
       "      <td>...</td>\n",
       "      <td>...</td>\n",
       "      <td>...</td>\n",
       "      <td>...</td>\n",
       "    </tr>\n",
       "    <tr>\n",
       "      <th>1124261</th>\n",
       "      <td>36727</td>\n",
       "      <td>France</td>\n",
       "      <td>20</td>\n",
       "      <td>Fe</td>\n",
       "      <td>patriotism</td>\n",
       "      <td>Flag</td>\n",
       "      <td>Eagle</td>\n",
       "      <td>Stars and Stripes</td>\n",
       "      <td>3</td>\n",
       "      <td>14</td>\n",
       "      <td>0.599884</td>\n",
       "      <td>0.325061</td>\n",
       "      <td>0.071077</td>\n",
       "      <td>0.003978</td>\n",
       "      <td>0</td>\n",
       "      <td>1.000000</td>\n",
       "      <td>0</td>\n",
       "      <td>0</td>\n",
       "    </tr>\n",
       "    <tr>\n",
       "      <th>1124262</th>\n",
       "      <td>35503</td>\n",
       "      <td>France</td>\n",
       "      <td>27</td>\n",
       "      <td>Fe</td>\n",
       "      <td>gallop</td>\n",
       "      <td>horse</td>\n",
       "      <td>race</td>\n",
       "      <td>poll</td>\n",
       "      <td>3</td>\n",
       "      <td>14</td>\n",
       "      <td>0.564305</td>\n",
       "      <td>0.287128</td>\n",
       "      <td>0.129580</td>\n",
       "      <td>0.018987</td>\n",
       "      <td>0</td>\n",
       "      <td>1.000000</td>\n",
       "      <td>0</td>\n",
       "      <td>0</td>\n",
       "    </tr>\n",
       "    <tr>\n",
       "      <th>1124263</th>\n",
       "      <td>72390</td>\n",
       "      <td>France</td>\n",
       "      <td>24</td>\n",
       "      <td>Fe</td>\n",
       "      <td>picket</td>\n",
       "      <td>line</td>\n",
       "      <td>strike</td>\n",
       "      <td>No more responses</td>\n",
       "      <td>2</td>\n",
       "      <td>14</td>\n",
       "      <td>0.442822</td>\n",
       "      <td>0.367667</td>\n",
       "      <td>0.172795</td>\n",
       "      <td>0.016717</td>\n",
       "      <td>0</td>\n",
       "      <td>1.000000</td>\n",
       "      <td>0</td>\n",
       "      <td>0</td>\n",
       "    </tr>\n",
       "    <tr>\n",
       "      <th>1124264</th>\n",
       "      <td>88127</td>\n",
       "      <td>France</td>\n",
       "      <td>36</td>\n",
       "      <td>Fe</td>\n",
       "      <td>tripod</td>\n",
       "      <td>camera</td>\n",
       "      <td>photo</td>\n",
       "      <td>lab</td>\n",
       "      <td>3</td>\n",
       "      <td>14</td>\n",
       "      <td>0.546320</td>\n",
       "      <td>0.332402</td>\n",
       "      <td>0.111609</td>\n",
       "      <td>0.009668</td>\n",
       "      <td>0</td>\n",
       "      <td>0.071429</td>\n",
       "      <td>0</td>\n",
       "      <td>1</td>\n",
       "    </tr>\n",
       "    <tr>\n",
       "      <th>1124267</th>\n",
       "      <td>72390</td>\n",
       "      <td>France</td>\n",
       "      <td>24</td>\n",
       "      <td>Fe</td>\n",
       "      <td>stark</td>\n",
       "      <td>strong</td>\n",
       "      <td>No more responses</td>\n",
       "      <td>No more responses</td>\n",
       "      <td>1</td>\n",
       "      <td>14</td>\n",
       "      <td>0.523016</td>\n",
       "      <td>0.264480</td>\n",
       "      <td>0.173351</td>\n",
       "      <td>0.039154</td>\n",
       "      <td>0</td>\n",
       "      <td>1.000000</td>\n",
       "      <td>0</td>\n",
       "      <td>0</td>\n",
       "    </tr>\n",
       "  </tbody>\n",
       "</table>\n",
       "<p>580804 rows × 18 columns</p>\n",
       "</div>"
      ],
      "text/plain": [
       "         participantID        country  age gender         cue    R1Raw  \\\n",
       "0                64960  United States   24     Ma      lawful  dutiful   \n",
       "2                66020  United States   26     Fe       Japan     bomb   \n",
       "3                34329  United States   38     Ma     contain   within   \n",
       "4                 1250  United States   21     Ma        pull     push   \n",
       "6                42323  United States   28     Fe       shade     grey   \n",
       "...                ...            ...  ...    ...         ...      ...   \n",
       "1124261          36727         France   20     Fe  patriotism     Flag   \n",
       "1124262          35503         France   27     Fe      gallop    horse   \n",
       "1124263          72390         France   24     Fe      picket     line   \n",
       "1124264          88127         France   36     Fe      tripod   camera   \n",
       "1124267          72390         France   24     Fe       stark   strong   \n",
       "\n",
       "                     R2Raw              R3Raw  amount  n_responses  \\\n",
       "0                   square            illegal       3           14   \n",
       "2                     rice               fish       3           14   \n",
       "3                      has            nuclear       3           14   \n",
       "4                     drag              slide       3           14   \n",
       "6                   blinds               cove       3           14   \n",
       "...                    ...                ...     ...          ...   \n",
       "1124261              Eagle  Stars and Stripes       3           14   \n",
       "1124262               race               poll       3           14   \n",
       "1124263             strike  No more responses       2           14   \n",
       "1124264              photo                lab       3           14   \n",
       "1124267  No more responses  No more responses       1           14   \n",
       "\n",
       "         predictionU30  prediction3050  prediction5070  prediction70U  \\\n",
       "0             0.310465        0.339911        0.303626       0.045998   \n",
       "2             0.476169        0.388888        0.125822       0.009122   \n",
       "3             0.539082        0.267073        0.160471       0.033374   \n",
       "4             0.181081        0.245244        0.426000       0.147675   \n",
       "6             0.564290        0.292399        0.126269       0.017043   \n",
       "...                ...             ...             ...            ...   \n",
       "1124261       0.599884        0.325061        0.071077       0.003978   \n",
       "1124262       0.564305        0.287128        0.129580       0.018987   \n",
       "1124263       0.442822        0.367667        0.172795       0.016717   \n",
       "1124264       0.546320        0.332402        0.111609       0.009668   \n",
       "1124267       0.523016        0.264480        0.173351       0.039154   \n",
       "\n",
       "         predictedAgeGroupPerTrial  avgParticpantPredictionAcc  \\\n",
       "0                                1                    0.785714   \n",
       "2                                0                    1.000000   \n",
       "3                                0                    0.000000   \n",
       "4                                2                    0.285714   \n",
       "6                                0                    1.000000   \n",
       "...                            ...                         ...   \n",
       "1124261                          0                    1.000000   \n",
       "1124262                          0                    1.000000   \n",
       "1124263                          0                    1.000000   \n",
       "1124264                          0                    0.071429   \n",
       "1124267                          0                    1.000000   \n",
       "\n",
       "         maxParticipantPredictionAcc  participantAgeGroup  \n",
       "0                                  0                    0  \n",
       "2                                  0                    0  \n",
       "3                                  0                    1  \n",
       "4                                  0                    0  \n",
       "6                                  0                    0  \n",
       "...                              ...                  ...  \n",
       "1124261                            0                    0  \n",
       "1124262                            0                    0  \n",
       "1124263                            0                    0  \n",
       "1124264                            0                    1  \n",
       "1124267                            0                    0  \n",
       "\n",
       "[580804 rows x 18 columns]"
      ]
     },
     "execution_count": 29,
     "metadata": {},
     "output_type": "execute_result"
    }
   ],
   "source": [
    "snow_subset"
   ]
  }
 ],
 "metadata": {
  "kernelspec": {
   "display_name": "oldassociates",
   "language": "python",
   "name": "python3"
  },
  "language_info": {
   "codemirror_mode": {
    "name": "ipython",
    "version": 3
   },
   "file_extension": ".py",
   "mimetype": "text/x-python",
   "name": "python",
   "nbconvert_exporter": "python",
   "pygments_lexer": "ipython3",
   "version": "3.11.4"
  },
  "orig_nbformat": 4
 },
 "nbformat": 4,
 "nbformat_minor": 2
}
